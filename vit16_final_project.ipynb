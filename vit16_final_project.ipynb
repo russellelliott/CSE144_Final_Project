{
  "cells": [
    {
      "cell_type": "code",
      "execution_count": 9,
      "metadata": {
        "colab": {
          "base_uri": "https://localhost:8080/"
        },
        "id": "POFyjYC2fnZj",
        "outputId": "337b0859-bb6a-49b7-ee79-26068edc0c6e"
      },
      "outputs": [
        {
          "name": "stdout",
          "output_type": "stream",
          "text": [
            "Drive already mounted at /content/gdrive/; to attempt to forcibly remount, call drive.mount(\"/content/gdrive/\", force_remount=True).\n"
          ]
        }
      ],
      "source": [
        "from google.colab import drive\n",
        "drive.mount(\"/content/gdrive/\")"
      ]
    },
    {
      "cell_type": "code",
      "execution_count": 10,
      "metadata": {
        "id": "pwVyvCg4sfmf"
      },
      "outputs": [],
      "source": [
        "import pandas as pd\n",
        "import torch\n",
        "import torch.nn as nn\n",
        "import torch.optim as optim\n",
        "import torch.nn.functional as F\n",
        "from sklearn.model_selection import train_test_split\n",
        "from torch.utils.data import Dataset, DataLoader\n",
        "import matplotlib.pyplot as plt\n",
        "import numpy as np\n",
        "import random\n",
        "import torchvision.models as models"
      ]
    },
    {
      "cell_type": "code",
      "execution_count": 11,
      "metadata": {
        "colab": {
          "base_uri": "https://localhost:8080/"
        },
        "id": "DlU0aNs2sgJv",
        "outputId": "dcf18646-13ae-4a07-b7ba-c87e68bd8db6"
      },
      "outputs": [
        {
          "name": "stdout",
          "output_type": "stream",
          "text": [
            "Cuda works\n"
          ]
        }
      ],
      "source": [
        "import os\n",
        "import torch\n",
        "from torch.utils.data import Dataset, DataLoader\n",
        "from torchvision.datasets import ImageFolder\n",
        "from torchvision.transforms import transforms\n",
        "from sklearn.model_selection import train_test_split\n",
        "from PIL import Image\n",
        "\n",
        "if torch.cuda.is_available():\n",
        "    print(\"Cuda works\")\n",
        "\n",
        "class CustomImageFolder(Dataset):\n",
        "    def __init__(self, root, transform=None):\n",
        "        self.root = root\n",
        "        self.transform = transform\n",
        "\n",
        "        # Get the list of subfolders (folder names are strings)\n",
        "        subfolders = sorted(os.listdir(self.root), key=lambda x: int(x))\n",
        "\n",
        "        # Create a list of paths to the subfolders in numerical order\n",
        "        subfolders_paths = [os.path.join(self.root, folder) for folder in subfolders]\n",
        "\n",
        "        # Initialize lists to store image paths and labels\n",
        "        self.samples = []\n",
        "\n",
        "        for class_idx, folder_path in enumerate(subfolders_paths):\n",
        "            class_images = [(os.path.join(folder_path, image), class_idx) for image in os.listdir(folder_path)]\n",
        "            self.samples.extend(class_images)\n",
        "\n",
        "    def __len__(self):\n",
        "        return len(self.samples)\n",
        "\n",
        "    def __getitem__(self, index):\n",
        "        image_path, label = self.samples[index]\n",
        "        image = Image.open(image_path).convert('RGB')\n",
        "\n",
        "        if self.transform is not None:\n",
        "            image = self.transform(image)\n",
        "\n",
        "        if torch.cuda.is_available():\n",
        "            image = image.cuda()\n",
        "\n",
        "        return image, label\n",
        "\n",
        "# Define the directory containing your images\n",
        "data_dir = '/content/gdrive/MyDrive/CSE144_Final_Project/train/train'\n",
        "\n",
        "size = 224\n",
        "# Define the transformations to be applied to each image\n",
        "transform = transforms.Compose([\n",
        "    transforms.Resize((size,size)),\n",
        "    transforms.ToTensor(),\n",
        "    transforms.Normalize(mean=[0.485, 0.456, 0.406], std=[0.229, 0.224, 0.225])\n",
        "])\n",
        "\n",
        "additional_transform = transforms.Compose([\n",
        "    transforms.Resize((size,size)),\n",
        "    transforms.RandomHorizontalFlip(),\n",
        "    transforms.ColorJitter(brightness=0.7, contrast=0.7),  # Adjust brightness and contrast randomly\n",
        "    transforms.Normalize(mean=[0.485, 0.456, 0.406], std=[0.229, 0.224, 0.225])\n",
        "])\n",
        "\n",
        "additional_transform_2 = transforms.Compose([\n",
        "    transforms.Resize((size,size)),\n",
        "    transforms.RandomRotation(60),\n",
        "    transforms.Normalize(mean=[0.485, 0.456, 0.406], std=[0.229, 0.224, 0.225])\n",
        "])\n",
        "\n",
        "additional_transform_3 = transforms.Compose([\n",
        "    transforms.Resize((size,size)),\n",
        "    transforms.ColorJitter(saturation=0., hue=0.3),  # Adjust brightness and contrast randomly\n",
        "    transforms.Normalize(mean=[0.485, 0.456, 0.406], std=[0.229, 0.224, 0.225])\n",
        "])\n",
        "\n",
        "additional_transform_4 = transforms.Compose([\n",
        "    transforms.Resize((size, size)),\n",
        "    transforms.GaussianBlur(kernel_size=3),  # Adjust kernel_size as needed\n",
        "    transforms.Normalize(mean=[0.485, 0.456, 0.406], std=[0.229, 0.224, 0.225])\n",
        "])\n",
        "\n",
        "# Create a custom dataset from the sorted subfolders\n",
        "dataset = CustomImageFolder(root=data_dir, transform=transform)\n",
        "add_dataset = CustomImageFolder(root=data_dir, transform=additional_transform)\n",
        "add2_dataset = CustomImageFolder(root=data_dir, transform=additional_transform_2)\n",
        "add3_dataset = CustomImageFolder(root=data_dir, transform=additional_transform_3)\n",
        "add4_dataset = CustomImageFolder(root=data_dir, transform=additional_transform_4)\n",
        "\n",
        "\n",
        "dataset.samples.extend(add_dataset.samples)\n",
        "dataset.samples.extend(add2_dataset.samples)\n",
        "dataset.samples.extend(add3_dataset.samples)\n",
        "dataset.samples.extend(add4_dataset.samples)\n",
        "\n",
        "\n",
        "# Split the dataset into training and testing sets\n",
        "train_indices, test_indices = train_test_split(list(range(len(dataset))), test_size=0.2, random_state=42)\n",
        "\n",
        "# Create data loaders for the training and testing sets\n",
        "train_loader = DataLoader(dataset, batch_size=8, sampler=torch.utils.data.SubsetRandomSampler(train_indices))\n",
        "test_loader = DataLoader(dataset, batch_size=8, sampler=torch.utils.data.SubsetRandomSampler(test_indices))\n",
        "\n",
        "# print(len(train_loader))\n",
        "# print(len(test_loader))\n",
        "\n",
        "# print(dataset.samples)"
      ]
    },
    {
      "cell_type": "code",
      "execution_count": 12,
      "metadata": {
        "colab": {
          "base_uri": "https://localhost:8080/"
        },
        "id": "uRNnLufAsk14",
        "outputId": "7d93fb6f-370b-4ae1-9411-632189af7165"
      },
      "outputs": [
        {
          "name": "stderr",
          "output_type": "stream",
          "text": [
            "/usr/local/lib/python3.10/dist-packages/torchvision/models/_utils.py:208: UserWarning: The parameter 'pretrained' is deprecated since 0.13 and may be removed in the future, please use 'weights' instead.\n",
            "  warnings.warn(\n",
            "/usr/local/lib/python3.10/dist-packages/torchvision/models/_utils.py:223: UserWarning: Arguments other than a weight enum or `None` for 'weights' are deprecated since 0.13 and may be removed in the future. The current behavior is equivalent to passing `weights=ViT_B_16_Weights.IMAGENET1K_V1`. You can also use `weights=ViT_B_16_Weights.DEFAULT` to get the most up-to-date weights.\n",
            "  warnings.warn(msg)\n"
          ]
        }
      ],
      "source": [
        "import torch\n",
        "import torch.nn as nn\n",
        "import torch.optim as optim\n",
        "from torchvision import models\n",
        "\n",
        "# Define your custom head\n",
        "class CustomResNetHead(nn.Module):\n",
        "    def __init__(self, in_features, num_classes=100):\n",
        "        super(CustomResNetHead, self).__init__()\n",
        "        self.fc = nn.Sequential(\n",
        "            nn.BatchNorm1d(in_features),\n",
        "            nn.Dropout(0.5),\n",
        "            nn.ReLU(),\n",
        "            nn.Linear(in_features, num_classes),\n",
        "            nn.Softmax(dim=1)\n",
        "        )\n",
        "\n",
        "    def forward(self, x):\n",
        "        x = self.fc(x)\n",
        "        return x\n",
        "\n",
        "# Load the pretrained ResNet-50 model\n",
        "model = models.vit_b_16(pretrained=True)\n",
        "# Freeze the feature layers\n",
        "\n",
        "for param in model.parameters():\n",
        "    param.requires_grad = False\n",
        "\n",
        "# Modify the fully connected layer\n",
        "in_features = model.heads.head.in_features\n",
        "model.heads = nn.Sequential (\n",
        "    CustomResNetHead(in_features, 100)\n",
        ")\n",
        "\n",
        "# print(model)\n",
        "\n",
        "if torch.cuda.is_available():\n",
        "    model.cuda()\n",
        "    model.to('cuda')\n",
        "\n",
        "# Set up optimizer and criterion\n",
        "optimizer = optim.Adam(model.parameters(), lr=0.0005, weight_decay=5e-5)\n",
        "criterion = nn.CrossEntropyLoss()\n"
      ]
    },
    {
      "cell_type": "code",
      "execution_count": 13,
      "metadata": {
        "colab": {
          "base_uri": "https://localhost:8080/"
        },
        "id": "DjGOprcXsnxY",
        "outputId": "b7da0b13-05e0-468e-ff22-1659cbe34703"
      },
      "outputs": [
        {
          "name": "stdout",
          "output_type": "stream",
          "text": [
            "Epoch 1/5, Train Loss: 4.4000, Train Acc: 73.81%, Test Loss: 4.1470, Test Acc: 63.16%\n",
            "Epoch 2/5, Train Loss: 4.0447, Train Acc: 88.22%, Test Loss: 3.9539, Test Acc: 81.95%\n",
            "Epoch 3/5, Train Loss: 3.9209, Train Acc: 93.05%, Test Loss: 3.8474, Test Acc: 88.97%\n",
            "Epoch 4/5, Train Loss: 3.8428, Train Acc: 95.93%, Test Loss: 3.7982, Test Acc: 92.48%\n",
            "Epoch 5/5, Train Loss: 3.7978, Train Acc: 96.12%, Test Loss: 3.7666, Test Acc: 92.98%\n"
          ]
        }
      ],
      "source": [
        "import torch.multiprocessing as mp\n",
        "\n",
        "if __name__ == '__main__':\n",
        "    mp.set_start_method('spawn', force=True)\n",
        "\n",
        "# Function to calculate accuracy\n",
        "def calculate_accuracy(loader, model):\n",
        "    model.eval()\n",
        "    correct = 0\n",
        "    total = 0\n",
        "    with torch.no_grad():\n",
        "        for data in loader:\n",
        "            images, labels = data\n",
        "            if torch.cuda.is_available():\n",
        "                images = images.cuda()\n",
        "                labels = labels.cuda()\n",
        "            # images = images.permute(0, 3, 1, 2)\n",
        "            outputs = model(images)\n",
        "            _, predicted = torch.max(outputs.data, 1)\n",
        "            total += labels.size(0)\n",
        "            correct += (predicted == labels).sum().item()\n",
        "    return 100 * correct / total\n",
        "\n",
        "# Training the network\n",
        "num_epochs = 5\n",
        "train_losses, test_losses = [], []\n",
        "train_acc, test_acc = [], []\n",
        "\n",
        "for epoch in range(num_epochs):\n",
        "    model.train()\n",
        "    running_loss = 0.0\n",
        "    for i, data in enumerate(train_loader, 0):\n",
        "        inputs, labels = data\n",
        "        if torch.cuda.is_available():\n",
        "                inputs = inputs.cuda()\n",
        "                labels = labels.cuda()\n",
        "        #inputs = inputs.permute(0, 3, 1, 2)\n",
        "        optimizer.zero_grad()\n",
        "        outputs = model(inputs)\n",
        "        loss = criterion(outputs, labels)\n",
        "        loss.backward()\n",
        "        optimizer.step()\n",
        "        running_loss += loss.item()\n",
        "\n",
        "    train_loss = running_loss / len(train_loader)\n",
        "    train_losses.append(train_loss)\n",
        "    train_accuracy = calculate_accuracy(train_loader, model)\n",
        "    train_acc.append(train_accuracy)\n",
        "\n",
        "    test_loss = 0.0\n",
        "    for data in test_loader:\n",
        "        images, labels = data\n",
        "        if torch.cuda.is_available():\n",
        "                images = images.cuda()\n",
        "                labels = labels.cuda()\n",
        "        #images = images.permute(0, 3, 1, 2)\n",
        "        outputs = model(images)\n",
        "        loss = criterion(outputs, labels)\n",
        "        test_loss += loss.item()\n",
        "\n",
        "    test_loss /= len(test_loader)\n",
        "    test_losses.append(test_loss)\n",
        "    test_accuracy = calculate_accuracy(test_loader, model)\n",
        "    test_acc.append(test_accuracy)\n",
        "\n",
        "    print(f'Epoch {epoch+1}/{num_epochs}, Train Loss: {train_loss:.4f}, Train Acc: {train_accuracy:.2f}%, Test Loss: {test_loss:.4f}, Test Acc: {test_accuracy:.2f}%')"
      ]
    },
    {
      "cell_type": "code",
      "execution_count": 14,
      "metadata": {
        "id": "m4VtI-2i5CVe"
      },
      "outputs": [],
      "source": [
        "torch.save(model.state_dict(), \"/content/gdrive/MyDrive/CSE144_Final_Project/model.pth\")"
      ]
    },
    {
      "cell_type": "code",
      "execution_count": 15,
      "metadata": {
        "colab": {
          "base_uri": "https://localhost:8080/",
          "height": 391
        },
        "id": "4lWqaCshsqfu",
        "outputId": "1316eac5-91b8-4a2d-b5d5-c044b270103f"
      },
      "outputs": [
        {
          "data": {
            "image/png": "[encoded data removed]",
            "text/plain": [
              "<Figure size 1200x400 with 2 Axes>"
            ]
          },
          "metadata": {},
          "output_type": "display_data"
        }
      ],
      "source": [
        "# Plotting the training and validation loss\n",
        "plt.figure(figsize=(12, 4))\n",
        "plt.subplot(1, 2, 1)\n",
        "plt.plot(train_losses, label='Train Loss')\n",
        "plt.plot(test_losses, label='Validation Loss')\n",
        "plt.title('Loss Over Epochs')\n",
        "plt.legend()\n",
        "\n",
        "# Plotting the training and validation accuracy\n",
        "plt.subplot(1, 2, 2)\n",
        "plt.plot(train_acc, label='Train Accuracy')\n",
        "plt.plot(test_acc, label='Validation Accuracy')\n",
        "plt.title('Accuracy Over Epochs')\n",
        "plt.legend()\n",
        "\n",
        "plt.show()"
      ]
    },
    {
      "cell_type": "code",
      "execution_count": 16,
      "metadata": {
        "colab": {
          "base_uri": "https://localhost:8080/"
        },
        "id": "2jMsBWhKtM0T",
        "outputId": "c1930409-3732-4b43-8f91-b8135297c1ef"
      },
      "outputs": [
        {
          "name": "stderr",
          "output_type": "stream",
          "text": [
            "Predicting: 100%|██████████| 32/32 [00:29<00:00,  1.09it/s]\n"
          ]
        }
      ],
      "source": [
        "import pandas as pd\n",
        "from tqdm import tqdm\n",
        "\n",
        "class CustomTestFolder(Dataset):\n",
        "    def __init__(self, root, transform=None):\n",
        "        self.root = root\n",
        "        self.transform = transform\n",
        "\n",
        "        # Get the list of image files\n",
        "        image_files = sorted(os.listdir(self.root), key=lambda x: int(x[:-4]))\n",
        "\n",
        "        # Create a list of paths to the images in alphabetical order\n",
        "        self.samples = [os.path.join(self.root, image) for image in image_files]\n",
        "\n",
        "    def __len__(self):\n",
        "        return len(self.samples)\n",
        "\n",
        "    def __getitem__(self, index):\n",
        "        image_path = self.samples[index]\n",
        "        image = Image.open(image_path).convert('RGB')\n",
        "\n",
        "        if self.transform is not None:\n",
        "            image = self.transform(image)\n",
        "\n",
        "        return image\n",
        "\n",
        "# Set the directory for the test images\n",
        "test_data_dir = '/content/gdrive/MyDrive/CSE144_Final_Project/test/test'\n",
        "\n",
        "# Create a custom dataset for the test set\n",
        "test_transform = transforms.Compose([\n",
        "    transforms.Resize((size,size)),\n",
        "    transforms.ToTensor(),\n",
        "    transforms.Normalize(mean=[0.485, 0.456, 0.406], std=[0.229, 0.224, 0.225])\n",
        "])\n",
        "\n",
        "test_dataset = CustomTestFolder(root=test_data_dir, transform=test_transform)\n",
        "test_loader = DataLoader(test_dataset, batch_size=32, shuffle=False)\n",
        "\n",
        "# Set the model to evaluation mode and move it to the GPU\n",
        "model.eval()\n",
        "model.to('cuda')\n",
        "\n",
        "# Create lists to store predictions\n",
        "predictions = []\n",
        "\n",
        "# Iterate over the test set and make predictions\n",
        "for images in tqdm(test_loader, desc=\"Predicting\"):\n",
        "    with torch.no_grad():\n",
        "        # Move input data to the same device as the model\n",
        "        images = images.to('cuda')\n",
        "\n",
        "        # Make predictions\n",
        "        outputs = model(images)\n",
        "        _, predicted = torch.max(outputs, 1)\n",
        "\n",
        "        # Append predictions to the list\n",
        "        predictions.extend(predicted.cpu().numpy())\n",
        "\n",
        "# Create a DataFrame with image file names and predicted labels\n",
        "image_file_names = [os.path.basename(sample) for sample in test_dataset.samples]\n",
        "df = pd.DataFrame({'ID': image_file_names, 'Label': predictions})\n",
        "\n",
        "# Save the DataFrame to a CSV file\n",
        "df.to_csv('/content/gdrive/MyDrive/CSE144_Final_Project/predictions.csv', index=False)"
      ]
    }
  ],
  "metadata": {
    "accelerator": "GPU",
    "colab": {
      "gpuType": "T4",
      "provenance": []
    },
    "kernelspec": {
      "display_name": "Python 3",
      "name": "python3"
    },
    "language_info": {
      "name": "python"
    }
  },
  "nbformat": 4,
  "nbformat_minor": 0
}
